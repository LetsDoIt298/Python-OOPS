{
 "cells": [
  {
   "cell_type": "markdown",
   "id": "756ddcfc",
   "metadata": {},
   "source": [
    "# Class\n"
   ]
  },
  {
   "cell_type": "code",
   "execution_count": 5,
   "id": "210cfc14",
   "metadata": {},
   "outputs": [],
   "source": [
    "# Define a class\n",
    "class Dog:\n",
    "    sound = \"bark\" # class attribute"
   ]
  },
  {
   "cell_type": "code",
   "execution_count": 6,
   "id": "93ada780",
   "metadata": {},
   "outputs": [
    {
     "data": {
      "text/plain": [
       "'bark'"
      ]
     },
     "execution_count": 6,
     "metadata": {},
     "output_type": "execute_result"
    }
   ],
   "source": [
    "# Accessing class attribute\n",
    "Dog.sound"
   ]
  },
  {
   "cell_type": "code",
   "execution_count": null,
   "id": "22d6facf",
   "metadata": {},
   "outputs": [],
   "source": []
  },
  {
   "cell_type": "markdown",
   "id": "25074014",
   "metadata": {},
   "source": [
    "### Creating object"
   ]
  },
  {
   "cell_type": "code",
   "execution_count": 7,
   "id": "6db86e50",
   "metadata": {},
   "outputs": [],
   "source": [
    "class Dog:\n",
    "    sound = 'bark'\n",
    "    \n",
    "dog = Dog() # Object from class    "
   ]
  },
  {
   "cell_type": "code",
   "execution_count": 9,
   "id": "3c2a94a4",
   "metadata": {},
   "outputs": [
    {
     "data": {
      "text/plain": [
       "'bark'"
      ]
     },
     "execution_count": 9,
     "metadata": {},
     "output_type": "execute_result"
    }
   ],
   "source": [
    "# Accessing class attribute\n",
    "dog.sound"
   ]
  },
  {
   "cell_type": "code",
   "execution_count": null,
   "id": "c6de3eb2",
   "metadata": {},
   "outputs": [],
   "source": []
  },
  {
   "cell_type": "markdown",
   "id": "5e567bd8",
   "metadata": {},
   "source": [
    "### Using __init__() Function\n",
    " * __init__() function initializes object attributes when an object is created.\n",
    " * \"self\" parameter is a reference to the current instance of the class. It allows us to access the attributes and methods of the object."
   ]
  },
  {
   "cell_type": "code",
   "execution_count": 14,
   "id": "b4c402cb",
   "metadata": {},
   "outputs": [],
   "source": [
    "# Creating a class\n",
    "\n",
    "class Dog:\n",
    "    species = \"Canine\"  # Class attribute\n",
    "    \n",
    "    def __init__(self, name,age):\n",
    "        self.name = name # Instance attribute\n",
    "        self.age = age  # Instance attribute\n",
    "\n",
    "dog = Dog(\"Buddy\",3) # object"
   ]
  },
  {
   "cell_type": "code",
   "execution_count": 12,
   "id": "4ba017b1",
   "metadata": {},
   "outputs": [
    {
     "data": {
      "text/plain": [
       "'Canine'"
      ]
     },
     "execution_count": 12,
     "metadata": {},
     "output_type": "execute_result"
    }
   ],
   "source": [
    "Dog.species"
   ]
  },
  {
   "cell_type": "code",
   "execution_count": 15,
   "id": "cd60fe2f",
   "metadata": {},
   "outputs": [
    {
     "name": "stdout",
     "output_type": "stream",
     "text": [
      "3\n",
      "Buddy\n",
      "Canine\n"
     ]
    }
   ],
   "source": [
    "print(dog.age)\n",
    "print(dog.name)\n",
    "print(dog.species)"
   ]
  },
  {
   "cell_type": "code",
   "execution_count": null,
   "id": "d95e28df",
   "metadata": {},
   "outputs": [],
   "source": []
  },
  {
   "cell_type": "markdown",
   "id": "0834a8ce",
   "metadata": {},
   "source": [
    "# __str__ Method"
   ]
  },
  {
   "cell_type": "code",
   "execution_count": 21,
   "id": "8a933976",
   "metadata": {},
   "outputs": [],
   "source": [
    "class Dog:\n",
    "    def __init__(self, name, age):\n",
    "        self.name = name\n",
    "        self.age = age\n",
    "        \n",
    "    def __str__(self):\n",
    "        return f\"Dog name is->{self.name}, Dog age is {self.age}\"  # Returning a string\n",
    "    \n",
    "dog1 = Dog(name='First_Dog', age='2 years')\n",
    "dog2 = Dog(name='Second_Dog', age='3 years')"
   ]
  },
  {
   "cell_type": "code",
   "execution_count": 22,
   "id": "be12da0f",
   "metadata": {},
   "outputs": [
    {
     "name": "stdout",
     "output_type": "stream",
     "text": [
      "Dog name is->First_Dog, Dog age is 2 years\n",
      "Dog name is->Second_Dog, Dog age is 3 years\n"
     ]
    }
   ],
   "source": [
    "print(dog1)\n",
    "print(dog2)"
   ]
  },
  {
   "cell_type": "code",
   "execution_count": null,
   "id": "1e0e924b",
   "metadata": {},
   "outputs": [],
   "source": []
  },
  {
   "cell_type": "markdown",
   "id": "01d08079",
   "metadata": {},
   "source": [
    "# Class & Instance variable\n",
    "* Class instance variables are shared across all instances of a class.\n",
    "* Variables that are unique to each instance (object) of a class."
   ]
  },
  {
   "cell_type": "code",
   "execution_count": 40,
   "id": "9da2068a",
   "metadata": {},
   "outputs": [],
   "source": [
    "class Dog:\n",
    "    species = 'Labra' # Class instance\n",
    "    \n",
    "    def __init__(self, name, age):\n",
    "        self.name = name # Instance Variable\n",
    "        self.age = age  # Instance Variable\n",
    "\n",
    "        \n",
    "#Creating Objects\n",
    "dog1 = Dog(name= 'First_Name', age='Firt_Age')\n",
    "dog2 = Dog(name= 'Second_Name', age='Second_Age')"
   ]
  },
  {
   "cell_type": "code",
   "execution_count": 41,
   "id": "869cf3a5",
   "metadata": {},
   "outputs": [
    {
     "name": "stdout",
     "output_type": "stream",
     "text": [
      "------------Accessing class and instance variable-------\n",
      "Labra\n",
      "First_Name\n",
      "Second_Name\n",
      "------------Changing instance variable-------\n",
      "Labra\n",
      "NAME_CHANGED\n",
      "Second_Name\n",
      "------------Changing class variable-------\n",
      "CHANGED Class Variable\n",
      "NAME_CHANGED\n",
      "Second_Name\n",
      "\n",
      "\n",
      "------------Accessing class and instance variable-------\n",
      "CHANGED Class Variable\n",
      "NAME_CHANGED\n",
      "Second_Name\n"
     ]
    }
   ],
   "source": [
    "print(f\"------------Accessing class and instance variable-------\")\n",
    "print(dog1.species)\n",
    "print(dog1.name)\n",
    "print(dog2.name)\n",
    "\n",
    "print(f\"------------Changing instance variable-------\")\n",
    "dog1.name = 'NAME_CHANGED'\n",
    "print(dog1.species)\n",
    "print(dog1.name)\n",
    "print(dog2.name)\n",
    "\n",
    "print(f\"------------Changing class variable-------\")\n",
    "dog1.species='CHANGED Class Variable'\n",
    "print(dog1.species)\n",
    "print(dog1.name)\n",
    "print(dog2.name)\n",
    "\n",
    "print(f\"\\n\\n------------Accessing class and instance variable-------\")\n",
    "print(dog1.species)\n",
    "print(dog1.name)\n",
    "print(dog2.name)\n"
   ]
  },
  {
   "cell_type": "code",
   "execution_count": null,
   "id": "a8486c79",
   "metadata": {},
   "outputs": [],
   "source": []
  }
 ],
 "metadata": {
  "kernelspec": {
   "display_name": "Python 3 (ipykernel)",
   "language": "python",
   "name": "python3"
  },
  "language_info": {
   "codemirror_mode": {
    "name": "ipython",
    "version": 3
   },
   "file_extension": ".py",
   "mimetype": "text/x-python",
   "name": "python",
   "nbconvert_exporter": "python",
   "pygments_lexer": "ipython3",
   "version": "3.12.3"
  }
 },
 "nbformat": 4,
 "nbformat_minor": 5
}
